{
 "cells": [
  {
   "attachments": {},
   "cell_type": "markdown",
   "metadata": {},
   "source": [
    "## Setup"
   ]
  },
  {
   "cell_type": "code",
   "execution_count": 1,
   "metadata": {},
   "outputs": [],
   "source": [
    "# To support both python 2 and python 3\n",
    "from __future__ import division, print_function, unicode_literals\n",
    "\n",
    "# Common imports\n",
    "import pandas as pd\n",
    "import numpy as np\n",
    "import os\n",
    "\n",
    "# To make this notebook's output stable across runs\n",
    "np.random.seed(42)\n",
    "\n",
    "# To plot the figures\n",
    "import matplotlib as mlp \n",
    "import matplotlib.pyplot as plt\n",
    "mlp.rc('axes', labelsize=14)\n",
    "mlp.rc('xtick', labelsize=12)\n",
    "mlp.rc('ytick', labelsize=12)\n",
    "\n",
    "# Where to save the figures\n",
    "PROJECT_ROOT_DIR = \"../\"\n",
    "IMAGES_PATH = \"images\"\n",
    "os.makedirs(IMAGES_PATH, exist_ok=True)\n",
    "\n",
    "# Function to save the figures\n",
    "def save_fig(fig_id, tight_layout=True, fig_extension=\"png\", resolution=300, figure=None):\n",
    "    path = os.path.join(IMAGES_PATH, (fig_id + \".\" + fig_extension))\n",
    "    print('Saving figure', fig_id)\n",
    "    if tight_layout:\n",
    "        plt.tight_layout()\n",
    "\n",
    "    if figure is None:\n",
    "        plt.savefig(path, format=fig_extension, dpi=resolution)\n",
    "    else:\n",
    "        figure.savefig(path, format=fig_extension, dpi=resolution)\n"
   ]
  },
  {
   "attachments": {},
   "cell_type": "markdown",
   "metadata": {},
   "source": [
    "## Get the  data"
   ]
  },
  {
   "cell_type": "code",
   "execution_count": 5,
   "metadata": {},
   "outputs": [
    {
     "data": {
      "text/html": [
       "<div>\n",
       "<style scoped>\n",
       "    .dataframe tbody tr th:only-of-type {\n",
       "        vertical-align: middle;\n",
       "    }\n",
       "\n",
       "    .dataframe tbody tr th {\n",
       "        vertical-align: top;\n",
       "    }\n",
       "\n",
       "    .dataframe thead th {\n",
       "        text-align: right;\n",
       "    }\n",
       "</style>\n",
       "<table border=\"1\" class=\"dataframe\">\n",
       "  <thead>\n",
       "    <tr style=\"text-align: right;\">\n",
       "      <th></th>\n",
       "      <th>Distance</th>\n",
       "      <th>RSSI</th>\n",
       "    </tr>\n",
       "  </thead>\n",
       "  <tbody>\n",
       "    <tr>\n",
       "      <th>0</th>\n",
       "      <td>1</td>\n",
       "      <td>-21.0</td>\n",
       "    </tr>\n",
       "    <tr>\n",
       "      <th>1</th>\n",
       "      <td>2</td>\n",
       "      <td>-30.0</td>\n",
       "    </tr>\n",
       "    <tr>\n",
       "      <th>2</th>\n",
       "      <td>3</td>\n",
       "      <td>-29.0</td>\n",
       "    </tr>\n",
       "    <tr>\n",
       "      <th>3</th>\n",
       "      <td>4</td>\n",
       "      <td>-33.0</td>\n",
       "    </tr>\n",
       "    <tr>\n",
       "      <th>4</th>\n",
       "      <td>5</td>\n",
       "      <td>-32.0</td>\n",
       "    </tr>\n",
       "  </tbody>\n",
       "</table>\n",
       "</div>"
      ],
      "text/plain": [
       "   Distance  RSSI\n",
       "0         1 -21.0\n",
       "1         2 -30.0\n",
       "2         3 -29.0\n",
       "3         4 -33.0\n",
       "4         5 -32.0"
      ]
     },
     "execution_count": 5,
     "metadata": {},
     "output_type": "execute_result"
    }
   ],
   "source": [
    "DATASETS_PATH = os.path.join(PROJECT_ROOT_DIR, 'datasets')\n",
    "os.makedirs(DATASETS_PATH, exist_ok=True)\n",
    "\n",
    "DATASET_NAME = 'dados 2-4.txt'\n",
    "\n",
    "# columns names for the dataset\n",
    "columns=['Distance','RSSI']\n",
    "\n",
    "def load_data(data_path = DATASETS_PATH, dataset_name= DATASET_NAME, columns_names=columns):\n",
    "    txt_path = os.path.join(data_path, dataset_name)\n",
    "    return pd.read_table(txt_path, names=columns)\n",
    "\n",
    "# read the dataset\n",
    "data_2_4_Ghz = load_data(data_path=DATASETS_PATH, dataset_name=DATASET_NAME, columns_names=columns)\n",
    "data_2_4_Ghz.head()"
   ]
  },
  {
   "cell_type": "code",
   "execution_count": 8,
   "metadata": {},
   "outputs": [
    {
     "name": "stdout",
     "output_type": "stream",
     "text": [
      "0    -21.00\n",
      "1    -30.00\n",
      "2    -29.00\n",
      "3    -33.00\n",
      "4    -32.00\n",
      "5    -38.50\n",
      "6    -43.25\n",
      "7    -37.50\n",
      "8    -41.00\n",
      "9    -42.50\n",
      "10   -44.00\n",
      "11   -40.50\n",
      "12   -39.50\n",
      "13   -47.20\n",
      "14   -43.00\n",
      "15   -46.00\n",
      "16   -44.33\n",
      "17   -46.00\n",
      "18   -47.50\n",
      "19   -48.00\n",
      "20   -48.50\n",
      "21   -45.50\n",
      "22   -49.50\n",
      "23   -50.00\n",
      "24   -46.00\n",
      "25   -45.50\n",
      "26   -44.33\n",
      "27   -45.00\n",
      "28   -46.66\n",
      "29   -44.00\n",
      "Name: RSSI, dtype: float64\n"
     ]
    }
   ],
   "source": [
    "# Split data in samples and labels\n",
    "\n",
    "X = data_2_4_Ghz.drop(['RSSI'], axis=1)\n",
    "y = data_2_4_Ghz['RSSI']"
   ]
  },
  {
   "attachments": {},
   "cell_type": "markdown",
   "metadata": {},
   "source": [
    "## Load Random Forest Model"
   ]
  },
  {
   "cell_type": "code",
   "execution_count": 3,
   "metadata": {},
   "outputs": [],
   "source": [
    "import joblib\n",
    "\n",
    "forest_reg_best = joblib.load('../2-4 GHz Analysis/models/forest_reg_best.pkl')"
   ]
  },
  {
   "cell_type": "code",
   "execution_count": null,
   "metadata": {},
   "outputs": [],
   "source": []
  }
 ],
 "metadata": {
  "kernelspec": {
   "display_name": "base",
   "language": "python",
   "name": "python3"
  },
  "language_info": {
   "codemirror_mode": {
    "name": "ipython",
    "version": 3
   },
   "file_extension": ".py",
   "mimetype": "text/x-python",
   "name": "python",
   "nbconvert_exporter": "python",
   "pygments_lexer": "ipython3",
   "version": "3.9.18"
  },
  "orig_nbformat": 4
 },
 "nbformat": 4,
 "nbformat_minor": 2
}
