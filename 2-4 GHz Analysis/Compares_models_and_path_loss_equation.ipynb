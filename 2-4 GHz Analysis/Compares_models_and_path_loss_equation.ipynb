{
 "cells": [
  {
   "attachments": {},
   "cell_type": "markdown",
   "metadata": {},
   "source": [
    "## Setup"
   ]
  },
  {
   "cell_type": "code",
   "execution_count": 3,
   "metadata": {},
   "outputs": [],
   "source": [
    "# To support both python 2 and python 3\n",
    "from __future__ import division, print_function, unicode_literals\n",
    "\n",
    "# Common imports\n",
    "import pandas as pd\n",
    "import numpy as np\n",
    "import os\n",
    "\n",
    "# To make this notebook's output stable across runs\n",
    "np.random.seed(42)\n",
    "\n",
    "# To plot the figures\n",
    "import matplotlib as mlp \n",
    "import matplotlib.pyplot as plt\n",
    "mlp.rc('axes', labelsize=14)\n",
    "mlp.rc('xtick', labelsize=12)\n",
    "mlp.rc('ytick', labelsize=12)\n",
    "\n",
    "# Where to save the figures\n",
    "PROJECT_ROOT_DIR = \"../\"\n",
    "IMAGES_PATH = \"images\"\n",
    "os.makedirs(IMAGES_PATH, exist_ok=True)\n",
    "\n",
    "# Function to save the figures\n",
    "def save_fig(fig_id, tight_layout=True, fig_extension=\"png\", resolution=300, figure=None):\n",
    "    path = os.path.join(IMAGES_PATH, (fig_id + \".\" + fig_extension))\n",
    "    print('Saving figure', fig_id)\n",
    "    if tight_layout:\n",
    "        plt.tight_layout()\n",
    "\n",
    "    if figure is None:\n",
    "        plt.savefig(path, format=fig_extension, dpi=resolution)\n",
    "    else:\n",
    "        figure.savefig(path, format=fig_extension, dpi=resolution)\n"
   ]
  },
  {
   "attachments": {},
   "cell_type": "markdown",
   "metadata": {},
   "source": [
    "## Get the  data"
   ]
  },
  {
   "cell_type": "code",
   "execution_count": 3,
   "metadata": {},
   "outputs": [
    {
     "data": {
      "text/html": [
       "<div>\n",
       "<style scoped>\n",
       "    .dataframe tbody tr th:only-of-type {\n",
       "        vertical-align: middle;\n",
       "    }\n",
       "\n",
       "    .dataframe tbody tr th {\n",
       "        vertical-align: top;\n",
       "    }\n",
       "\n",
       "    .dataframe thead th {\n",
       "        text-align: right;\n",
       "    }\n",
       "</style>\n",
       "<table border=\"1\" class=\"dataframe\">\n",
       "  <thead>\n",
       "    <tr style=\"text-align: right;\">\n",
       "      <th></th>\n",
       "      <th>Distance</th>\n",
       "      <th>RSSI</th>\n",
       "    </tr>\n",
       "  </thead>\n",
       "  <tbody>\n",
       "    <tr>\n",
       "      <th>0</th>\n",
       "      <td>1</td>\n",
       "      <td>-21.0</td>\n",
       "    </tr>\n",
       "    <tr>\n",
       "      <th>1</th>\n",
       "      <td>2</td>\n",
       "      <td>-30.0</td>\n",
       "    </tr>\n",
       "    <tr>\n",
       "      <th>2</th>\n",
       "      <td>3</td>\n",
       "      <td>-29.0</td>\n",
       "    </tr>\n",
       "    <tr>\n",
       "      <th>3</th>\n",
       "      <td>4</td>\n",
       "      <td>-33.0</td>\n",
       "    </tr>\n",
       "    <tr>\n",
       "      <th>4</th>\n",
       "      <td>5</td>\n",
       "      <td>-32.0</td>\n",
       "    </tr>\n",
       "  </tbody>\n",
       "</table>\n",
       "</div>"
      ],
      "text/plain": [
       "   Distance  RSSI\n",
       "0         1 -21.0\n",
       "1         2 -30.0\n",
       "2         3 -29.0\n",
       "3         4 -33.0\n",
       "4         5 -32.0"
      ]
     },
     "execution_count": 3,
     "metadata": {},
     "output_type": "execute_result"
    }
   ],
   "source": [
    "DATASETS_PATH = os.path.join(PROJECT_ROOT_DIR, 'datasets')\n",
    "os.makedirs(DATASETS_PATH, exist_ok=True)\n",
    "\n",
    "DATASET_NAME = 'dados 2-4.txt'\n",
    "\n",
    "# columns names for the dataset\n",
    "columns=['Distance','RSSI']\n",
    "\n",
    "def load_data(data_path = DATASETS_PATH, dataset_name= DATASET_NAME, columns_names=columns):\n",
    "    txt_path = os.path.join(data_path, dataset_name)\n",
    "    return pd.read_table(txt_path, names=columns)\n",
    "\n",
    "# read the dataset\n",
    "data_2_4_Ghz = load_data(data_path=DATASETS_PATH, dataset_name=DATASET_NAME, columns_names=columns)\n",
    "data_2_4_Ghz.head()\n"
   ]
  },
  {
   "cell_type": "code",
   "execution_count": 4,
   "metadata": {},
   "outputs": [
    {
     "data": {
      "image/png": "[encoded data removed]",
      "text/plain": [
       "<Figure size 720x432 with 1 Axes>"
      ]
     },
     "metadata": {
      "needs_background": "light"
     },
     "output_type": "display_data"
    }
   ],
   "source": [
    "# Show the RSSI behavior in function of the distance\n",
    "plt.figure(figsize=(10,6))\n",
    "plt.scatter(data_2_4_Ghz['Distance'], data_2_4_Ghz['RSSI'], label='2.4 GHz')\n",
    "plt.ylabel('RSSI (dB)')\n",
    "plt.xlabel('Distance (m)')\n",
    "plt.xticks(np.arange(1,30,2))\n",
    "plt.grid()\n",
    "plt.show()"
   ]
  },
  {
   "attachments": {},
   "cell_type": "markdown",
   "metadata": {},
   "source": [
    "## Split the data"
   ]
  },
  {
   "cell_type": "code",
   "execution_count": 5,
   "metadata": {},
   "outputs": [],
   "source": [
    "# Split the data in 3 distances (near, medium, far)\n",
    "near_data = data_2_4_Ghz[:10]\n",
    "medium_data = data_2_4_Ghz[10:20]\n",
    "far_data = data_2_4_Ghz[20:30]"
   ]
  },
  {
   "attachments": {},
   "cell_type": "markdown",
   "metadata": {},
   "source": [
    "## Optimized Path Loss Equation"
   ]
  },
  {
   "cell_type": "code",
   "execution_count": 10,
   "metadata": {},
   "outputs": [
    {
     "name": "stdout",
     "output_type": "stream",
     "text": [
      "[-23.42374598 -28.5843032  -31.60303565 -33.74486041 -35.40618877\n",
      " -36.76359287 -37.91126168 -38.90541763 -39.78232532 -40.56674598\n",
      " -41.27634078 -41.92415008 -42.52007687 -43.0718189  -43.58547844\n",
      " -44.06597485 -44.51733184 -44.94288254 -45.34541896 -45.7273032\n",
      " -46.09055135 -46.436898   -46.76784628 -47.0847073  -47.38863155\n",
      " -47.68063409 -47.96161499 -48.23237611 -48.49363486 -48.74603565]\n"
     ]
    }
   ],
   "source": [
    "# Function to calculate the RSSI using the Optimized Path Loss Equation\n",
    "def calculate_rssi_with_optimized_path_loss_function(frequency, d):\n",
    "\n",
    "    # Transmit power\n",
    "    Pt = 10 * np.log10(250) + 5 + 1\n",
    "    # Reference distance\n",
    "    d0 = 1\n",
    "\n",
    "    # Free-space path loss model\n",
    "    Ao = 32.44+20*np.log10(d0/1000)+20*np.log10(frequency)\n",
    "\n",
    "    # Optimized coefficients\n",
    "    n = 1.7143\n",
    "    k = 13.3156\n",
    "\n",
    "    # Optimized Path Loss\n",
    "    L = Ao + 10*n*np.log10(d/d0) + k\n",
    "\n",
    "    # Received Power According to the Optimized Path Loss\n",
    "    Pr = Pt - L\n",
    "    \n",
    "    print(Pr)\n",
    "\n",
    "# Distances\n",
    "d = np.linspace(1,30,30)\n",
    "\n",
    "# Frequency\n",
    "frequency = 2412\n",
    "# Calculate RSSI using optimized \n",
    "calculate_rssi_with_optimized_path_loss_function(frequency, d)\n"
   ]
  }
 ],
 "metadata": {
  "kernelspec": {
   "display_name": "base",
   "language": "python",
   "name": "python3"
  },
  "language_info": {
   "codemirror_mode": {
    "name": "ipython",
    "version": 3
   },
   "file_extension": ".py",
   "mimetype": "text/x-python",
   "name": "python",
   "nbconvert_exporter": "python",
   "pygments_lexer": "ipython3",
   "version": "3.9.18"
  },
  "orig_nbformat": 4
 },
 "nbformat": 4,
 "nbformat_minor": 2
}
