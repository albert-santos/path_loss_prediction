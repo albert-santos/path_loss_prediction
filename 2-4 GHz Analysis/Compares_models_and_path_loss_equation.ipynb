{
 "cells": [
  {
   "attachments": {},
   "cell_type": "markdown",
   "metadata": {},
   "source": [
    "## Setup"
   ]
  },
  {
   "cell_type": "code",
   "execution_count": null,
   "metadata": {},
   "outputs": [],
   "source": [
    "# To support both python 2 and python 3\n",
    "from __future__ import division, print_function, unicode_literals\n",
    "\n",
    "# Common imports\n",
    "import pandas as pd\n",
    "import numpy as np\n",
    "import os\n",
    "\n",
    "# To make this notebook's output stable across runs\n",
    "np.random.seed(42)\n",
    "\n",
    "# To plot the figures\n",
    "import matplotlib as mlp \n",
    "import matplotlib.pyplot as plt\n",
    "mlp.rc('axes', labelsize=14)\n",
    "mlp.rc('xtick', labelsize=12)\n",
    "mlp.rc('ytick', labelsize=12)\n",
    "\n",
    "# Where to save the figures\n",
    "PROJECT_ROOT_DIR = \"../\"\n",
    "IMAGES_PATH = \"images\"\n",
    "os.makedirs(IMAGES_PATH, exist_ok=True)\n",
    "\n",
    "# Function to save the figures\n",
    "def save_fig(fig_id, tight_layout=True, fig_extension=\"png\", resolution=300, figure=None):\n",
    "    path = os.path.join(IMAGES_PATH, (fig_id + \".\" + fig_extension))\n",
    "    print('Saving figure', fig_id)\n",
    "    if tight_layout:\n",
    "        plt.tight_layout()\n",
    "\n",
    "    if figure is None:\n",
    "        plt.savefig(path, format=fig_extension, dpi=resolution)\n",
    "    else:\n",
    "        figure.savefig(path, format=fig_extension, dpi=resolution)\n"
   ]
  }
 ],
 "metadata": {
  "kernelspec": {
   "display_name": "base",
   "language": "python",
   "name": "python3"
  },
  "language_info": {
   "name": "python",
   "version": "3.9.19"
  },
  "orig_nbformat": 4
 },
 "nbformat": 4,
 "nbformat_minor": 2
}
